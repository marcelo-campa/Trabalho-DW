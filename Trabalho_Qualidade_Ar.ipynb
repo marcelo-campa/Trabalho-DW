{
 "cells": [
  {
   "cell_type": "code",
   "execution_count": 16,
   "id": "330e46cd-283f-4da8-84f7-925b03fa2478",
   "metadata": {},
   "outputs": [],
   "source": [
    "import pandas as pd\n",
    "import requests\n",
    "import io\n",
    "import numpy as np"
   ]
  },
  {
   "cell_type": "code",
   "execution_count": 18,
   "id": "788d2c0b",
   "metadata": {},
   "outputs": [
    {
     "name": "stdout",
     "output_type": "stream",
     "text": [
      "   full_date   ano  mes  dia dia_semana\n",
      "0 2011-01-01  2011    1    1      FALSE\n",
      "1 2011-01-02  2011    1    2      FALSE\n",
      "2 2011-01-03  2011    1    3       TRUE\n",
      "3 2011-01-04  2011    1    4       TRUE\n",
      "4 2011-01-05  2011    1    5       TRUE\n"
     ]
    }
   ],
   "source": [
    "###CRIANDO DIMENSAO TEMPO\n",
    "\n",
    "# Define start and end dates\n",
    "start_date = pd.to_datetime('2011-01-01')\n",
    "end_date = pd.to_datetime('2021-12-31')\n",
    "\n",
    "# Create date range using pandas.date_range\n",
    "date_range = pd.date_range(start=start_date, end=end_date)\n",
    "\n",
    "# Extract components from the date range\n",
    "df_tempo = pd.DataFrame({\n",
    "  \"full_date\": date_range,\n",
    "  \"ano\": date_range.year,\n",
    "  \"mes\": date_range.month,\n",
    "  \"dia\": date_range.day,\n",
    "  \"dia_semana\": date_range.dayofweek  # Day of week (0-Monday, 6-Sunday) \n",
    "})\n",
    "# You can customize the util_day column to represent different weekdays (e.g., 'weekday' for Monday-Friday)\n",
    "df_tempo['dia_semana'] = np.where(df_tempo['dia_semana'] < 5, 'TRUE', 'FALSE')\n",
    "\n",
    "print(df_tempo.head())  # Display the first few rows of the DataFrame"
   ]
  },
  {
   "cell_type": "code",
   "execution_count": 12,
   "id": "a6511968",
   "metadata": {},
   "outputs": [],
   "source": [
    "#REFERENCIAS URL PARA COLETAR CSVs\n",
    "#URL FATO MEDICAO\n",
    "url_dados_medicoes = \"https://opendata.arcgis.com/api/v3/datasets/5b1bf5c3e5114564bbf9b7a372b85e17_2/downloads/data?format=csv&spatialRefId=4326&where=1%3D1\"\n",
    "\n",
    "#URL DIMENSAO BAIRROS\n",
    "url_dados_bairros = \"https://opendata.arcgis.com/api/v3/datasets/dc94b29fc3594a5bb4d297bee0c9a3f2_4/downloads/data?format=csv&spatialRefId=4326&where=1%3D1\"\n",
    "\n",
    "#REQUESTs\n",
    "response_fato = requests.get(url_dados_medicoes)\n",
    "response_dimensao =  requests.get(url_dados_bairros)\n"
   ]
  },
  {
   "cell_type": "code",
   "execution_count": 15,
   "id": "b887c6f2",
   "metadata": {},
   "outputs": [
    {
     "name": "stdout",
     "output_type": "stream",
     "text": [
      "   objectid                    data  codnum estação  chuva     pres  rs  \\\n",
      "0         1  2012/01/01 03:30:00+00       2      BG    0.2  1008.15 NaN   \n",
      "1         2  2012/01/01 04:30:00+00       2      BG    0.4  1007.13 NaN   \n",
      "\n",
      "    temp     ur  dir_vento  ...    co    no    nox     o3  pm10  pm2_5  \\\n",
      "0  24.67  95.24        NaN  ...  0.42  2.18  17.36  28.06  81.0    NaN   \n",
      "1  24.72  94.13        NaN  ...  0.35  1.63  11.12  32.81  61.0    NaN   \n",
      "\n",
      "        lat        lon  x_utm_sirgas2000  y_utm_sirgas2000  \n",
      "0 -22.88791 -43.471074       656828.8045      7.468075e+06  \n",
      "1 -22.88791 -43.471074       656828.8045      7.468075e+06  \n",
      "\n",
      "[2 rows x 26 columns]\n",
      "   objectid          área              nome                regiao_adm  \\\n",
      "0       325  1.705685e+06           Paquetá  PAQUETA                    \n",
      "1       326  4.056403e+06  Freguesia (Ilha)  ILHA DO GOVERNADOR         \n",
      "\n",
      "   area_plane  codbairro  codra  codbnum  \\\n",
      "0           1         13     21       13   \n",
      "1           3         98     20       98   \n",
      "\n",
      "                                                link                  rp  \\\n",
      "0  Paqueta&area=013                              ...              Centro   \n",
      "1  Freguesia (Ilha)          &area=98            ...  Ilha do Governador   \n",
      "\n",
      "   cod_rp  codbairro_long  st_areashape  st_perimetershape  \n",
      "0     1.1              13  1.705689e+06       24841.459984  \n",
      "1     3.7              98  4.056414e+06       18303.621385  \n"
     ]
    }
   ],
   "source": [
    "#PARSING\n",
    "fileFato = io.BytesIO(response_fato.content)\n",
    "fileDimensao = io.BytesIO(response_dimensao.content)\n",
    "\n",
    "#LER ARQUIVO COM PANDAS\n",
    "df_medicao = pd.read_csv(fileFato)\n",
    "print(df_medicao.head(2))\n",
    "df_bairro = pd.read_csv(fileDimensao)\n",
    "print(df_bairro.head(2))\n",
    "\n",
    "\n",
    "\n"
   ]
  },
  {
   "cell_type": "code",
   "execution_count": 19,
   "id": "7cc516a1",
   "metadata": {},
   "outputs": [
    {
     "data": {
      "text/plain": [
       "array(['objectid', 'data', 'codnum', 'estação', 'chuva', 'pres', 'rs',\n",
       "       'temp', 'ur', 'dir_vento', 'vel_vento', 'so2', 'no2', 'hcnm',\n",
       "       'hct', 'ch4', 'co', 'no', 'nox', 'o3', 'pm10', 'pm2_5', 'lat',\n",
       "       'lon', 'x_utm_sirgas2000', 'y_utm_sirgas2000'], dtype=object)"
      ]
     },
     "execution_count": 19,
     "metadata": {},
     "output_type": "execute_result"
    }
   ],
   "source": [
    "df_medicao.columns.values"
   ]
  }
 ],
 "metadata": {
  "kernelspec": {
   "display_name": "Python 3",
   "language": "python",
   "name": "python3"
  },
  "language_info": {
   "codemirror_mode": {
    "name": "ipython",
    "version": 3
   },
   "file_extension": ".py",
   "mimetype": "text/x-python",
   "name": "python",
   "nbconvert_exporter": "python",
   "pygments_lexer": "ipython3",
   "version": "3.9.0"
  }
 },
 "nbformat": 4,
 "nbformat_minor": 5
}
